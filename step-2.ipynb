{
 "cells": [
  {
   "cell_type": "markdown",
   "metadata": {},
   "source": [
    "Dependencies for regular expression matching, csv generation, making web requests and parsing web responses."
   ]
  },
  {
   "cell_type": "code",
   "execution_count": null,
   "metadata": {
    "collapsed": true
   },
   "outputs": [],
   "source": [
    "import re\n",
    "import csv\n",
    "import requests\n",
    "from bs4 import BeautifulSoup"
   ]
  },
  {
   "cell_type": "markdown",
   "metadata": {},
   "source": [
    "Start by getting the valid disclaimer cookie and storing it in a session for future requests."
   ]
  },
  {
   "cell_type": "code",
   "execution_count": null,
   "metadata": {
    "collapsed": true
   },
   "outputs": [],
   "source": [
    "session = requests.Session()\n",
    "accept_disclaimer_url = 'http://icrimewatch.net/session_mgr.php?accepted_license=55753'\n",
    "disclaimer_page = session.get(accept_disclaimer_url)"
   ]
  },
  {
   "cell_type": "markdown",
   "metadata": {},
   "source": [
    "Prepare the input and output files.\n",
    "Input file: newline delimited list of links to detailed offender webpages.\n",
    "Output file: Four column csv to hold the parsed results."
   ]
  },
  {
   "cell_type": "code",
   "execution_count": null,
   "metadata": {
    "collapsed": true
   },
   "outputs": [],
   "source": [
    "in_file = open('offender_urls.txt', 'r')\n",
    "links = [line.rstrip('\\n') for line in in_file]\n",
    "\n",
    "out_file = open(\"offenders.csv\", \"wb+\")\n",
    "c = csv.writer(out_file)\n",
    "c.writerow(['name','address', 'status', 'link'])"
   ]
  },
  {
   "cell_type": "markdown",
   "metadata": {},
   "source": [
    "The parsed name, address, and status fields will need to be cleaned up a bit. So prepare some regex to remove wrapping html tags."
   ]
  },
  {
   "cell_type": "code",
   "execution_count": null,
   "metadata": {
    "collapsed": false
   },
   "outputs": [],
   "source": [
    "name_regex = re.compile(r'<span class=\"nameTitle\">(.*?)<\\/span>')\n",
    "address_regex = re.compile(r'<td bgcolor=\"#EEEEEE\" colspan=\"2\">(.*?)\\s*?.*?<i>(.*?)<\\/i>.*?<\\/td>')"
   ]
  },
  {
   "cell_type": "markdown",
   "metadata": {},
   "source": [
    "Loop through each detailed offender url and try to parse the name, address, and status from reponse html. Then compile the data into a csv."
   ]
  },
  {
   "cell_type": "code",
   "execution_count": null,
   "metadata": {
    "collapsed": true
   },
   "outputs": [],
   "source": [
    "for link in links:\n",
    "    page = session.get(link)\n",
    "    soup = BeautifulSoup(page.text, 'html.parser')\n",
    "\n",
    "    try:\n",
    "        raw_name = soup.find_all(class_='nameTitle')[1]\n",
    "        name = re.search(name_regex, str(raw_name)).group(1).strip()\n",
    "    except:\n",
    "        name = \"ERROR\"\n",
    "\n",
    "    try:\n",
    "        raw_address = soup.find(string='Address').find_parent('tr').find_next_sibling().td\n",
    "        address_parse = re.search(address_regex, str(raw_address))\n",
    "        address = address_parse.group(1).replace(\"<br>\",\"\").strip()\n",
    "        status = address_parse.group(2).strip()\n",
    "    except:\n",
    "        address = \"ERROR\"\n",
    "        status = \"ERROR\"\n",
    "\n",
    "    c.writerow([name, address, status, link])\n",
    "\n",
    "    print name\n",
    "    print address\n",
    "    print status\n",
    "    print link\n",
    "    print \"---------------------------------------\""
   ]
  },
  {
   "cell_type": "markdown",
   "metadata": {},
   "source": [
    "Close the input and output files. There should now be a csv with 2224 rows of offender data."
   ]
  },
  {
   "cell_type": "code",
   "execution_count": null,
   "metadata": {
    "collapsed": true
   },
   "outputs": [],
   "source": [
    "in_file.close()\n",
    "out_file.close()"
   ]
  }
 ],
 "metadata": {
  "kernelspec": {
   "display_name": "Python 2",
   "language": "python",
   "name": "python2"
  },
  "language_info": {
   "codemirror_mode": {
    "name": "ipython",
    "version": 2
   },
   "file_extension": ".py",
   "mimetype": "text/x-python",
   "name": "python",
   "nbconvert_exporter": "python",
   "pygments_lexer": "ipython2",
   "version": "2.7.10"
  }
 },
 "nbformat": 4,
 "nbformat_minor": 0
}
