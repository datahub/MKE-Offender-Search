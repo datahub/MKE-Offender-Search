{
 "cells": [
  {
   "cell_type": "markdown",
   "metadata": {},
   "source": [
    "Dependencies for making web requests and parsing the html response"
   ]
  },
  {
   "cell_type": "code",
   "execution_count": 56,
   "metadata": {
    "collapsed": true
   },
   "outputs": [],
   "source": [
    "import requests\n",
    "from bs4 import BeautifulSoup"
   ]
  },
  {
   "cell_type": "markdown",
   "metadata": {},
   "source": [
    "Create a session which will preserve our cookies across requests."
   ]
  },
  {
   "cell_type": "code",
   "execution_count": 57,
   "metadata": {
    "collapsed": true
   },
   "outputs": [],
   "source": [
    "session = requests.Session()"
   ]
  },
  {
   "cell_type": "markdown",
   "metadata": {},
   "source": [
    "In order to search, we need to accept the disclaimer. This is enforced using a cookie. So we need to submit a form to get the valid session cookie."
   ]
  },
  {
   "cell_type": "code",
   "execution_count": 58,
   "metadata": {
    "collapsed": true
   },
   "outputs": [],
   "source": [
    "accept_disclaimer_url = 'http://icrimewatch.net/session_mgr.php?accepted_license=55753'\n",
    "disclaimer_page = session.get(accept_disclaimer_url)"
   ]
  },
  {
   "cell_type": "markdown",
   "metadata": {},
   "source": [
    "Now we should be able to access search results. Let's check:"
   ]
  },
  {
   "cell_type": "code",
   "execution_count": 59,
   "metadata": {
    "collapsed": false
   },
   "outputs": [
    {
     "name": "stdout",
     "output_type": "stream",
     "text": [
      "Search results!\n"
     ]
    }
   ],
   "source": [
    "searchpage_url = 'http://www.icrimewatch.net/results.php?AgencyID=55753&SubmitAllSearch=1&excludeIncarcerated=0'\n",
    "resultspage_page = session.get(searchpage_url)\n",
    "resultspage_soup = BeautifulSoup(resultspage_page.text, 'html.parser')\n",
    "resultspage_header = resultspage_soup.find_all(class_=\"titleText\")\n",
    "if len(resultspage_header) > 0:\n",
    "    if \"Offender Search: Results\" in resultspage_header[0]:\n",
    "        print \"Search results!\""
   ]
  },
  {
   "cell_type": "markdown",
   "metadata": {},
   "source": [
    "Today there's 75 pages of search results so we'll need to request each page and grab the 30 offender links on each page to compile a full list in a text file."
   ]
  },
  {
   "cell_type": "code",
   "execution_count": 60,
   "metadata": {
    "collapsed": true
   },
   "outputs": [],
   "source": [
    "offender_count = 0\n",
    "total_pages = 75\n",
    "searchpage_url = \"http://www.icrimewatch.net/results.php?AgencyID=55753&SubmitAllSearch=1&excludeIncarcerated=0&page={}\"\n",
    "outfile = open('links_to_each_offender.txt','w')"
   ]
  },
  {
   "cell_type": "markdown",
   "metadata": {},
   "source": [
    "To do this we'll loop through each page of search results and get all of the unique links on the page that match the format of the offender details page. Then well add them to our list in the file."
   ]
  },
  {
   "cell_type": "code",
   "execution_count": 61,
   "metadata": {
    "collapsed": false
   },
   "outputs": [
    {
     "name": "stdout",
     "output_type": "stream",
     "text": [
      "results page: 1 --- offender total count: 30\n",
      "results page: 2 --- offender total count: 60\n",
      "results page: 3 --- offender total count: 90\n",
      "results page: 4 --- offender total count: 120\n",
      "results page: 5 --- offender total count: 150\n",
      "results page: 6 --- offender total count: 180\n",
      "results page: 7 --- offender total count: 210\n",
      "results page: 8 --- offender total count: 240\n",
      "results page: 9 --- offender total count: 270\n",
      "results page: 10 --- offender total count: 300\n",
      "results page: 11 --- offender total count: 330\n",
      "results page: 12 --- offender total count: 360\n",
      "results page: 13 --- offender total count: 390\n",
      "results page: 14 --- offender total count: 420\n",
      "results page: 15 --- offender total count: 450\n",
      "results page: 16 --- offender total count: 480\n",
      "results page: 17 --- offender total count: 510\n",
      "results page: 18 --- offender total count: 540\n",
      "results page: 19 --- offender total count: 570\n",
      "results page: 20 --- offender total count: 600\n",
      "results page: 21 --- offender total count: 630\n",
      "results page: 22 --- offender total count: 660\n",
      "results page: 23 --- offender total count: 690\n",
      "results page: 24 --- offender total count: 720\n",
      "results page: 25 --- offender total count: 750\n",
      "results page: 26 --- offender total count: 780\n",
      "results page: 27 --- offender total count: 810\n",
      "results page: 28 --- offender total count: 840\n",
      "results page: 29 --- offender total count: 870\n",
      "results page: 30 --- offender total count: 900\n",
      "results page: 31 --- offender total count: 930\n",
      "results page: 32 --- offender total count: 960\n",
      "results page: 33 --- offender total count: 990\n",
      "results page: 34 --- offender total count: 1020\n",
      "results page: 35 --- offender total count: 1050\n",
      "results page: 36 --- offender total count: 1080\n",
      "results page: 37 --- offender total count: 1110\n",
      "results page: 38 --- offender total count: 1140\n",
      "results page: 39 --- offender total count: 1170\n",
      "results page: 40 --- offender total count: 1200\n",
      "results page: 41 --- offender total count: 1230\n",
      "results page: 42 --- offender total count: 1260\n",
      "results page: 43 --- offender total count: 1289\n",
      "results page: 44 --- offender total count: 1319\n",
      "results page: 45 --- offender total count: 1349\n",
      "results page: 46 --- offender total count: 1379\n",
      "results page: 47 --- offender total count: 1409\n",
      "results page: 48 --- offender total count: 1438\n",
      "results page: 49 --- offender total count: 1468\n",
      "results page: 50 --- offender total count: 1498\n",
      "results page: 51 --- offender total count: 1528\n",
      "results page: 52 --- offender total count: 1558\n",
      "results page: 53 --- offender total count: 1588\n",
      "results page: 54 --- offender total count: 1618\n",
      "results page: 55 --- offender total count: 1648\n",
      "results page: 56 --- offender total count: 1678\n",
      "results page: 57 --- offender total count: 1708\n",
      "results page: 58 --- offender total count: 1738\n",
      "results page: 59 --- offender total count: 1768\n",
      "results page: 60 --- offender total count: 1798\n",
      "results page: 61 --- offender total count: 1828\n",
      "results page: 62 --- offender total count: 1858\n",
      "results page: 63 --- offender total count: 1888\n",
      "results page: 64 --- offender total count: 1918\n",
      "results page: 65 --- offender total count: 1948\n",
      "results page: 66 --- offender total count: 1978\n",
      "results page: 67 --- offender total count: 2008\n",
      "results page: 68 --- offender total count: 2038\n",
      "results page: 69 --- offender total count: 2068\n",
      "results page: 70 --- offender total count: 2098\n",
      "results page: 71 --- offender total count: 2128\n",
      "results page: 72 --- offender total count: 2158\n",
      "results page: 73 --- offender total count: 2188\n",
      "results page: 74 --- offender total count: 2218\n",
      "results page: 75 --- offender total count: 2224\n"
     ]
    }
   ],
   "source": [
    "for i in range(1, (total_pages + 1)):\n",
    "    offender_urls = set([])\n",
    "    resultspage_url = searchpage_url.format(i)\n",
    "    resultspage_page = session.get(resultspage_url)\n",
    "    resultspage_soup = BeautifulSoup(resultspage_page.text, 'html.parser')\n",
    "    for link in resultspage_soup.find_all('a'):\n",
    "        if link.get('href') and \"offenderdetails.php\" in link.get('href'):\n",
    "            offender_urls.add(\"http://www.icrimewatch.net/{}\".format(link.get('href')))\n",
    "    \n",
    "    for unique_link in offender_urls:\n",
    "        outfile.write(\"{}\\n\".format(unique_link))\n",
    "    \n",
    "    offender_count += len(offender_urls)\n",
    "    print \"results page: {} --- offender total count: {}\".format(i,offender_count)\n",
    "    \n",
    "outfile.close()"
   ]
  },
  {
   "cell_type": "markdown",
   "metadata": {},
   "source": [
    "*NOTE: As of July 25th, 2016: according to the website, there are 222**6** offenders however on page 43 of the results there is a duplicate listing and another on page 48.*\n",
    "\n",
    "Now that we have the list of links to every offender's details page we can proceed to request each of the 2224 pages and scrape the details about each offender."
   ]
  }
 ],
 "metadata": {
  "kernelspec": {
   "display_name": "Python 2",
   "language": "python",
   "name": "python2"
  },
  "language_info": {
   "codemirror_mode": {
    "name": "ipython",
    "version": 2
   },
   "file_extension": ".py",
   "mimetype": "text/x-python",
   "name": "python",
   "nbconvert_exporter": "python",
   "pygments_lexer": "ipython2",
   "version": "2.7.10"
  }
 },
 "nbformat": 4,
 "nbformat_minor": 0
}
